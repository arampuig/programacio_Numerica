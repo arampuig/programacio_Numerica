{
 "cells": [
  {
   "cell_type": "code",
   "execution_count": null,
   "metadata": {},
   "outputs": [],
   "source": [
    "- Exercici 1\n",
    "Crea una funció que donat un Array d’una dimensió, et faci un resum estadístic bàsic de les dades. \n",
    "Si detecta que l’array té més d’una dimensió, ha de mostrar un missatge d’error."
   ]
  },
  {
   "cell_type": "code",
   "execution_count": 48,
   "metadata": {},
   "outputs": [
    {
     "name": "stdout",
     "output_type": "stream",
     "text": [
      "minimum: 1\n",
      "maximum: 10\n",
      "range of values: 9\n",
      "median: 5.5\n",
      "weighted average: 5.5\n",
      "arithmetic mean: 5.5\n",
      "standard deviation: 2.8722813232690143\n",
      "variance: 8.25\n"
     ]
    }
   ],
   "source": [
    "import numpy as np\n",
    "\n",
    "arr = np.array([1,2,3,4,5,6,7,8,9,10])\n",
    "\n",
    "def resum_estadistic(a):\n",
    "    \n",
    "     if a.ndim > 1:\n",
    "        print('Error: The array must be 1-D')\n",
    "    \n",
    "     else:\n",
    "        print('minimum:', np.amin(a))\n",
    "        print('maximum:', np.amax(a))\n",
    "        print('range of values:', np.ptp(a))\n",
    "        print('median:', np.median(a))\n",
    "        print('weighted average:',np.average(a))\n",
    "        print('arithmetic mean:',np.mean(a))\n",
    "        print('standard deviation:',np.std(a))\n",
    "        print('variance:',np.var(a))\n",
    "\n",
    "    \n",
    "resum_estadistic(arr)\n",
    "   \n",
    "    "
   ]
  },
  {
   "cell_type": "code",
   "execution_count": null,
   "metadata": {},
   "outputs": [],
   "source": [
    "- Exercici 2\n",
    "Crea una funció que et generi un quadrat NxN de nombres aleatoris entre el 0 i el 100."
   ]
  },
  {
   "cell_type": "code",
   "execution_count": 85,
   "metadata": {},
   "outputs": [
    {
     "name": "stdout",
     "output_type": "stream",
     "text": [
      "3\n",
      "[[37 12 72]\n",
      " [ 9 75  5]\n",
      " [79 64 16]]\n"
     ]
    }
   ],
   "source": [
    "\n",
    "import numpy as np\n",
    "from numpy.random import seed\n",
    "from numpy.random import randint\n",
    "\n",
    "def quadrat_random():\n",
    "    n = int(input())\n",
    "    seed(1)\n",
    "    quadrat = np.random.randint(0,100,size = (n,n))\n",
    "    \n",
    "    print(quadrat)\n",
    "    \n",
    "    \n",
    "quadrat_random()\n",
    "    "
   ]
  },
  {
   "cell_type": "code",
   "execution_count": null,
   "metadata": {},
   "outputs": [],
   "source": [
    "- Exercici 3\n",
    "Crea una funció que donada una taula de dues dimensions, et calculi els totals per fila i els totals per columna."
   ]
  },
  {
   "cell_type": "code",
   "execution_count": 79,
   "metadata": {},
   "outputs": [
    {
     "name": "stdout",
     "output_type": "stream",
     "text": [
      "El total per columnes es: [12 15 18]\n",
      "El total per files es: [ 6 15 24]\n"
     ]
    }
   ],
   "source": [
    "import numpy as np\n",
    "\n",
    "#Creem una matriu de 2-D per aplicar-la a la funció:\n",
    "matrix = np.arange(1, 10).reshape(3,3)\n",
    "\n",
    "def suma_columnes_files(matrix):\n",
    "    \n",
    "    columnes = np.apply_along_axis(sum, 0, matrix)\n",
    "    files = np.apply_along_axis(sum, 1, matrix)\n",
    "    print('El total per columnes es:', columnes)\n",
    "    print('El total per files es:', files)\n",
    "    \n",
    "suma_columnes_files(matrix)"
   ]
  },
  {
   "cell_type": "code",
   "execution_count": null,
   "metadata": {},
   "outputs": [],
   "source": [
    "- Exercici 4\n",
    "Implementa manualment una funció que calculi el coeficient de correlació. Informa’t-en sobre els seus usos i interpretació."
   ]
  },
  {
   "cell_type": "code",
   "execution_count": 21,
   "metadata": {},
   "outputs": [
    {
     "name": "stdout",
     "output_type": "stream",
     "text": [
      "-0.4281618983696792\n"
     ]
    }
   ],
   "source": [
    "import numpy as np\n",
    "import matplotlib.pyplot as plt\n",
    "\n",
    "X= np.random.randint(20,size=10)\n",
    "Y= np.random.randint(20,size=10)\n",
    "\n",
    "def f_pearson(X,Y):\n",
    "    \n",
    "    N = len(X)\n",
    "    Pearson_corr =(N* sum(X*Y) - sum(X)*sum(Y)) / (np.sqrt(N * sum(X**2) - sum(X)**2) * np.sqrt( N * sum(Y**2) - sum(Y)**2))\n",
    "    print(Pearson_corr)\n",
    "    \n",
    "f_pearson(X,Y)\n"
   ]
  },
  {
   "cell_type": "code",
   "execution_count": 22,
   "metadata": {},
   "outputs": [
    {
     "data": {
      "text/plain": [
       "array([[ 1.       , -0.4281619],\n",
       "       [-0.4281619,  1.       ]])"
      ]
     },
     "execution_count": 22,
     "metadata": {},
     "output_type": "execute_result"
    }
   ],
   "source": [
    "import numpy as np\n",
    "import matplotlib.pyplot as plt\n",
    "\n",
    "x = [-2,-1,0,1,2]\n",
    "y = [4,1,3,2,0]\n",
    "\n",
    "np.corrcoef(X,Y)"
   ]
  },
  {
   "cell_type": "code",
   "execution_count": null,
   "metadata": {},
   "outputs": [],
   "source": []
  }
 ],
 "metadata": {
  "kernelspec": {
   "display_name": "Python 3",
   "language": "python",
   "name": "python3"
  },
  "language_info": {
   "codemirror_mode": {
    "name": "ipython",
    "version": 3
   },
   "file_extension": ".py",
   "mimetype": "text/x-python",
   "name": "python",
   "nbconvert_exporter": "python",
   "pygments_lexer": "ipython3",
   "version": "3.8.5"
  }
 },
 "nbformat": 4,
 "nbformat_minor": 4
}
